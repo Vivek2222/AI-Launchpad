{
  "nbformat": 4,
  "nbformat_minor": 0,
  "metadata": {
    "colab": {
      "provenance": [],
      "authorship_tag": "ABX9TyOkzG4CNa5wDLeYS9LKNjmO",
      "include_colab_link": true
    },
    "kernelspec": {
      "name": "python3",
      "display_name": "Python 3"
    },
    "language_info": {
      "name": "python"
    }
  },
  "cells": [
    {
      "cell_type": "markdown",
      "metadata": {
        "id": "view-in-github",
        "colab_type": "text"
      },
      "source": [
        "<a href=\"https://colab.research.google.com/github/Vivek2222/AI-Launchpad/blob/main/Day_1_Assignment_1_Supervised_Learning_with_the_Iris_Dataset.ipynb\" target=\"_parent\"><img src=\"https://colab.research.google.com/assets/colab-badge.svg\" alt=\"Open In Colab\"/></a>"
      ]
    },
    {
      "cell_type": "markdown",
      "source": [
        "## Understanding the Iris Dataset\n",
        "The Iris dataset is one of the most well-known datasets in machine learning, often used for classification tasks. It contains information about iris flowers of three species:\n",
        "\n",
        "Setosa\n",
        "Versicolor\n",
        "Virginica\n"
      ],
      "metadata": {
        "id": "n_5dn3bYl4u8"
      }
    },
    {
      "cell_type": "markdown",
      "source": [
        "# Dataset Structure\n",
        "The dataset includes the following:\n",
        "\n",
        "Features (Inputs):\n",
        "\n",
        "Sepal length (cm): Length of the outer part of the flower.\n",
        "Sepal width (cm): Width of the outer part of the flower.\n",
        "Petal length (cm): Length of the inner part of the flower.\n",
        "Petal width (cm): Width of the inner part of the flower.\n",
        "These are the numerical attributes used to distinguish the species.\n",
        "\n",
        "Target (Output):\n",
        "\n",
        "The species of the iris flower (setosa, versicolor, virginica)."
      ],
      "metadata": {
        "id": "9KaVArcJmV8K"
      }
    },
    {
      "cell_type": "markdown",
      "source": [
        "# Goal of the Assignment\n",
        "The objective is to:\n",
        "\n",
        "Train a supervised learning model: Use the features to learn patterns that distinguish the flower species.\n",
        "Make predictions: Use the trained model to classify flowers based on their features.\n",
        "Evaluate performance: Measure how well the model performs using accuracy and other metrics.\n",
        "This helps us understand how a machine learning model learns from data, predicts outcomes, and measures its effectiveness."
      ],
      "metadata": {
        "id": "CkpnUzWBmcSY"
      }
    },
    {
      "cell_type": "markdown",
      "source": [],
      "metadata": {
        "id": "8ofogO3amjj5"
      }
    },
    {
      "cell_type": "code",
      "source": [
        "!pip install scikit-learn matplotlib pandas seaborn"
      ],
      "metadata": {
        "colab": {
          "base_uri": "https://localhost:8080/"
        },
        "id": "Bt2drpQsd0pW",
        "outputId": "136d21de-094b-46ac-de47-a3e03e2df20e"
      },
      "execution_count": 1,
      "outputs": [
        {
          "output_type": "stream",
          "name": "stdout",
          "text": [
            "Requirement already satisfied: scikit-learn in /usr/local/lib/python3.10/dist-packages (1.5.2)\n",
            "Requirement already satisfied: matplotlib in /usr/local/lib/python3.10/dist-packages (3.8.0)\n",
            "Requirement already satisfied: pandas in /usr/local/lib/python3.10/dist-packages (2.2.2)\n",
            "Requirement already satisfied: seaborn in /usr/local/lib/python3.10/dist-packages (0.13.2)\n",
            "Requirement already satisfied: numpy>=1.19.5 in /usr/local/lib/python3.10/dist-packages (from scikit-learn) (1.26.4)\n",
            "Requirement already satisfied: scipy>=1.6.0 in /usr/local/lib/python3.10/dist-packages (from scikit-learn) (1.13.1)\n",
            "Requirement already satisfied: joblib>=1.2.0 in /usr/local/lib/python3.10/dist-packages (from scikit-learn) (1.4.2)\n",
            "Requirement already satisfied: threadpoolctl>=3.1.0 in /usr/local/lib/python3.10/dist-packages (from scikit-learn) (3.5.0)\n",
            "Requirement already satisfied: contourpy>=1.0.1 in /usr/local/lib/python3.10/dist-packages (from matplotlib) (1.3.1)\n",
            "Requirement already satisfied: cycler>=0.10 in /usr/local/lib/python3.10/dist-packages (from matplotlib) (0.12.1)\n",
            "Requirement already satisfied: fonttools>=4.22.0 in /usr/local/lib/python3.10/dist-packages (from matplotlib) (4.55.1)\n",
            "Requirement already satisfied: kiwisolver>=1.0.1 in /usr/local/lib/python3.10/dist-packages (from matplotlib) (1.4.7)\n",
            "Requirement already satisfied: packaging>=20.0 in /usr/local/lib/python3.10/dist-packages (from matplotlib) (24.2)\n",
            "Requirement already satisfied: pillow>=6.2.0 in /usr/local/lib/python3.10/dist-packages (from matplotlib) (11.0.0)\n",
            "Requirement already satisfied: pyparsing>=2.3.1 in /usr/local/lib/python3.10/dist-packages (from matplotlib) (3.2.0)\n",
            "Requirement already satisfied: python-dateutil>=2.7 in /usr/local/lib/python3.10/dist-packages (from matplotlib) (2.8.2)\n",
            "Requirement already satisfied: pytz>=2020.1 in /usr/local/lib/python3.10/dist-packages (from pandas) (2024.2)\n",
            "Requirement already satisfied: tzdata>=2022.7 in /usr/local/lib/python3.10/dist-packages (from pandas) (2024.2)\n",
            "Requirement already satisfied: six>=1.5 in /usr/local/lib/python3.10/dist-packages (from python-dateutil>=2.7->matplotlib) (1.16.0)\n"
          ]
        }
      ]
    },
    {
      "cell_type": "markdown",
      "source": [
        "## `Load and Explore the Dataset`\n",
        "\n",
        "Why: To understand the structure of the dataset, check for missing values, and ensure data is ready for analysis.\n",
        "\n",
        "Outcome: Gain familiarity with the data (e.g., feature names, species labels) and ensure the data is clean."
      ],
      "metadata": {
        "id": "L-5AQT6hg1HS"
      }
    },
    {
      "cell_type": "code",
      "source": [
        "from sklearn.datasets import load_iris\n",
        "import pandas as pd\n",
        "\n",
        "# Load the dataset\n",
        "iris = load_iris()\n",
        "data = pd.DataFrame(data=iris.data, columns=iris.feature_names)\n",
        "data['species'] = iris.target\n",
        "\n",
        "# Map target numbers to species names\n",
        "data['species'] = data['species'].map({i: iris.target_names[i] for i in range(len(iris.target_names))})\n",
        "\n",
        "# Display the first 5 rows\n",
        "print(data.head())\n",
        "\n",
        "# Check for missing values\n",
        "print(data.isnull().sum())"
      ],
      "metadata": {
        "colab": {
          "base_uri": "https://localhost:8080/"
        },
        "id": "UBw92WfZg_6O",
        "outputId": "bb1122d2-106a-476d-fbf6-eff040a6fd56"
      },
      "execution_count": 2,
      "outputs": [
        {
          "output_type": "stream",
          "name": "stdout",
          "text": [
            "   sepal length (cm)  sepal width (cm)  petal length (cm)  petal width (cm)  \\\n",
            "0                5.1               3.5                1.4               0.2   \n",
            "1                4.9               3.0                1.4               0.2   \n",
            "2                4.7               3.2                1.3               0.2   \n",
            "3                4.6               3.1                1.5               0.2   \n",
            "4                5.0               3.6                1.4               0.2   \n",
            "\n",
            "  species  \n",
            "0  setosa  \n",
            "1  setosa  \n",
            "2  setosa  \n",
            "3  setosa  \n",
            "4  setosa  \n",
            "sepal length (cm)    0\n",
            "sepal width (cm)     0\n",
            "petal length (cm)    0\n",
            "petal width (cm)     0\n",
            "species              0\n",
            "dtype: int64\n"
          ]
        }
      ]
    },
    {
      "cell_type": "markdown",
      "source": [
        "## `Split the Data`\n",
        "\n",
        "Why: To divide the dataset into:\n",
        "\n",
        "1.   Training set: Used to teach the model.\n",
        "2.   Testing set: Used to evaluate how well the model generalizes to unseen data.\n",
        "\n",
        "Outcome: Prevents overfitting and ensures robust evaluation."
      ],
      "metadata": {
        "id": "_yYlJruDh-B0"
      }
    },
    {
      "cell_type": "code",
      "source": [
        "from sklearn.model_selection import train_test_split\n",
        "\n",
        "# Features (X) and target (y)\n",
        "X = data.iloc[:, :-1]\n",
        "y = data['species']\n",
        "\n",
        "# Split data into training (80%) and testing (20%) sets\n",
        "X_train, X_test, y_train, y_test = train_test_split(X, y, test_size=0.2, random_state=42, stratify=y)\n",
        "\n",
        "# Confirm shapes\n",
        "print(f\"Training set size: {X_train.shape}\")\n",
        "print(f\"Testing set size: {X_test.shape}\")"
      ],
      "metadata": {
        "colab": {
          "base_uri": "https://localhost:8080/"
        },
        "id": "pfU60uiOiBQG",
        "outputId": "a8c38519-46c6-4f17-ac6d-6c429764ec70"
      },
      "execution_count": 3,
      "outputs": [
        {
          "output_type": "stream",
          "name": "stdout",
          "text": [
            "Training set size: (120, 4)\n",
            "Testing set size: (30, 4)\n"
          ]
        }
      ]
    },
    {
      "cell_type": "markdown",
      "source": [
        "## `Train a Model`\n",
        "\n",
        "Why: To let the machine learning algorithm \"learn\" the relationship between the features (inputs) and the species (outputs).\n",
        "\n",
        "Outcome: A trained model that can classify iris flowers.\n"
      ],
      "metadata": {
        "id": "6BCTqEsKihLM"
      }
    },
    {
      "cell_type": "code",
      "source": [
        "from sklearn.tree import DecisionTreeClassifier\n",
        "\n",
        "# Initialize and train the Decision Tree model\n",
        "model = DecisionTreeClassifier(random_state=42)\n",
        "model.fit(X_train, y_train)\n",
        "\n",
        "print(\"Model training complete!\")"
      ],
      "metadata": {
        "colab": {
          "base_uri": "https://localhost:8080/"
        },
        "id": "nT6joUc6intM",
        "outputId": "cbac145b-59ab-4025-a7a8-32004ff232f9"
      },
      "execution_count": 4,
      "outputs": [
        {
          "output_type": "stream",
          "name": "stdout",
          "text": [
            "Model training complete!\n"
          ]
        }
      ]
    },
    {
      "cell_type": "markdown",
      "source": [
        "## `Evaluate the Model`\n",
        "\n",
        "Why: To measure the model's effectiveness in predicting the correct species using metrics like:\n",
        "\n",
        "\n",
        "1.   Accuracy: The percentage of correctly classified examples.\n",
        "2.   Confusion Matrix: Shows where the model makes errors.\n",
        "3.   Classification Report: Detailed metrics like precision and recall for each species.\n",
        "\n",
        "Outcome: Insights into the model's performance and areas needing improvement."
      ],
      "metadata": {
        "id": "OkR5xv7JjvYr"
      }
    },
    {
      "cell_type": "code",
      "source": [
        "from sklearn.metrics import accuracy_score, confusion_matrix, classification_report\n",
        "\n",
        "# Make predictions on the test set\n",
        "y_pred = model.predict(X_test)\n",
        "\n",
        "# Calculate and print accuracy\n",
        "accuracy = accuracy_score(y_test, y_pred)\n",
        "print(f\"Accuracy: {accuracy:.2f}\")\n",
        "\n",
        "# Confusion matrix and classification report\n",
        "print(\"Confusion Matrix:\")\n",
        "print(confusion_matrix(y_test, y_pred))\n",
        "\n",
        "print(\"Classification Report:\")\n",
        "print(classification_report(y_test, y_pred))"
      ],
      "metadata": {
        "colab": {
          "base_uri": "https://localhost:8080/"
        },
        "id": "8ejHwn4QjxIu",
        "outputId": "1693ada8-1915-49f9-8994-f239ea05e49f"
      },
      "execution_count": 5,
      "outputs": [
        {
          "output_type": "stream",
          "name": "stdout",
          "text": [
            "Accuracy: 0.93\n",
            "Confusion Matrix:\n",
            "[[10  0  0]\n",
            " [ 0  9  1]\n",
            " [ 0  1  9]]\n",
            "Classification Report:\n",
            "              precision    recall  f1-score   support\n",
            "\n",
            "      setosa       1.00      1.00      1.00        10\n",
            "  versicolor       0.90      0.90      0.90        10\n",
            "   virginica       0.90      0.90      0.90        10\n",
            "\n",
            "    accuracy                           0.93        30\n",
            "   macro avg       0.93      0.93      0.93        30\n",
            "weighted avg       0.93      0.93      0.93        30\n",
            "\n"
          ]
        }
      ]
    },
    {
      "cell_type": "markdown",
      "source": [
        "## `Visualize the Results`\n",
        "\n",
        "Why: To make the evaluation easier to understand and highlight misclassifications.\n",
        "\n",
        "Outcome: Visual tools (e.g., confusion matrix heatmap) for presenting results"
      ],
      "metadata": {
        "id": "RBeYZ0fAkUcZ"
      }
    },
    {
      "cell_type": "code",
      "source": [
        "import seaborn as sns\n",
        "import matplotlib.pyplot as plt\n",
        "\n",
        "# Heatmap for confusion matrix\n",
        "cm = confusion_matrix(y_test, y_pred)\n",
        "sns.heatmap(cm, annot=True, fmt='d', cmap='Blues', xticklabels=iris.target_names, yticklabels=iris.target_names)\n",
        "plt.xlabel(\"Predicted\")\n",
        "plt.ylabel(\"True\")\n",
        "plt.title(\"Confusion Matrix Heatmap\")\n",
        "plt.show()"
      ],
      "metadata": {
        "colab": {
          "base_uri": "https://localhost:8080/",
          "height": 472
        },
        "id": "1K03DlVakWtn",
        "outputId": "1c92f3d2-1e01-4560-d671-94998d57eada"
      },
      "execution_count": 6,
      "outputs": [
        {
          "output_type": "display_data",
          "data": {
            "text/plain": [
              "<Figure size 640x480 with 2 Axes>"
            ],
            "image/png": "[encoded data removed]"
          },
          "metadata": {}
        }
      ]
    },
    {
      "cell_type": "markdown",
      "source": [],
      "metadata": {
        "id": "zWQHNwIll29V"
      }
    },
    {
      "cell_type": "markdown",
      "source": [
        "### `Make Predictions`\n",
        "Why: To use the trained model to classify new, unseen flowers based on their features.\n",
        "Outcome: Demonstrates how the model performs in real-world scenarios.\n"
      ],
      "metadata": {
        "id": "Vuf01g_1n73k"
      }
    },
    {
      "cell_type": "markdown",
      "source": [
        "## `Final Goal`\n",
        "By following these steps, you will:\n",
        "\n",
        "Understand the structure and preparation of a dataset.\n",
        "Learn how to train and test a machine learning model.\n",
        "Evaluate and interpret the model's performance.\n",
        "Practice the entire machine learning workflow using a classic example."
      ],
      "metadata": {
        "id": "1RpJHRyXn_Gz"
      }
    }
  ]
}